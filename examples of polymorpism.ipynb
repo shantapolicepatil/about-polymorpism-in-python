{
 "cells": [
  {
   "cell_type": "markdown",
   "id": "04853830-e9c7-4b03-87b1-6e406fb6bdab",
   "metadata": {},
   "source": [
    "## here is a examples of polymorpism in python"
   ]
  },
  {
   "cell_type": "code",
   "execution_count": 10,
   "id": "9f275227-1b2c-40c9-9fab-6c0d2178d3ba",
   "metadata": {},
   "outputs": [
    {
     "name": "stdout",
     "output_type": "stream",
     "text": [
      "Woof!\n",
      "Meow!\n"
     ]
    }
   ],
   "source": [
    "class Animal:\n",
    "    def sound(self):\n",
    "        pass\n",
    "\n",
    "class Dog(Animal):\n",
    "    def sound(self):\n",
    "        return \"Woof!\"\n",
    "\n",
    "class Cat(Animal):\n",
    "    def sound(self):\n",
    "        return \"Meow!\"\n",
    "\n",
    "def make_sound(animal):\n",
    "    print(animal.sound())\n",
    "\n",
    "# Create animals\n",
    "dog = Dog()\n",
    "cat = Cat()\n",
    "\n",
    "# Make sounds\n",
    "make_sound(dog)  # Output: Woof!\n",
    "make_sound(cat)  # Output: Meow!\n"
   ]
  },
  {
   "cell_type": "markdown",
   "id": "ec085794-b3c3-4375-8bdd-6abf29265132",
   "metadata": {},
   "source": [
    "Explanation:\n",
    "\n",
    "- We define an Animal base class with a sound method.\n",
    "- We create subclasses Dog and Cat that inherit from Animal and override the sound method.\n",
    "- We define a polymorphic function make_sound that takes an Animal object as input and calls its sound method.\n",
    "- We create instances of Dog and Cat and pass them to make_sound, which outputs the appropriate sound for each animal."
   ]
  },
  {
   "cell_type": "code",
   "execution_count": 13,
   "id": "167096be-20c7-44ef-94fc-9e64d7bc49f9",
   "metadata": {},
   "outputs": [
    {
     "name": "stdout",
     "output_type": "stream",
     "text": [
      "chinw\n",
      "guk guk\n"
     ]
    }
   ],
   "source": [
    "class Bird :\n",
    "    def sound(self):\n",
    "        pass\n",
    "    \n",
    "class parrot (Bird) :\n",
    "    def sound(self) :\n",
    "        return\"chinw\"\n",
    "    \n",
    "class owl(Bird):\n",
    "    def sound(self) :\n",
    "        return\"guk guk\"\n",
    "\n",
    "def make_sound(Bird):\n",
    "    print(Bird.sound())\n",
    "    \n",
    "parrot = parrot()\n",
    "owl = owl()\n",
    "\n",
    "make_sound(parrot)\n",
    "make_sound(owl)"
   ]
  },
  {
   "cell_type": "code",
   "execution_count": 14,
   "id": "5871f3d2-d49b-4e5f-8f03-761fb960831f",
   "metadata": {},
   "outputs": [
    {
     "name": "stdout",
     "output_type": "stream",
     "text": [
      "78.5\n",
      "24\n"
     ]
    }
   ],
   "source": [
    "class Shape:\n",
    "\tdef area(self):\n",
    "\t\tpass\n",
    "\n",
    "class Circle(Shape):\n",
    "\tdef area(self):\n",
    "\t\treturn 3.14 * self.radius ** 2\n",
    "\n",
    "class Rectangle(Shape):\n",
    "\tdef area(self):\n",
    "\t\treturn self.width * self.height\n",
    "\n",
    "def calculate_area(shape):\n",
    "\tprint(shape.area())\n",
    "\n",
    "circle = Circle()\n",
    "circle.radius = 5\n",
    "rectangle = Rectangle()\n",
    "rectangle.width = 4\n",
    "rectangle.height = 6\n",
    "\n",
    "calculate_area(circle)  # Output: 78.5\n",
    "calculate_area(rectangle)  # Output: 24"
   ]
  },
  {
   "cell_type": "code",
   "execution_count": 15,
   "id": "36fd61e2-9d5f-4e2a-a657-d677776da1f5",
   "metadata": {},
   "outputs": [
    {
     "name": "stdout",
     "output_type": "stream",
     "text": [
      "Paid $100 with credit card\n",
      "Paid $50 with PayPal\n"
     ]
    }
   ],
   "source": [
    "class PaymentMethod:\n",
    "\tdef pay(self, amount):\n",
    "\t\tpass\n",
    "\n",
    "class CreditCard(PaymentMethod):\n",
    "\tdef pay(self, amount):\n",
    "\t\treturn f\"Paid ${amount} with credit card\"\n",
    "\n",
    "class PayPal(PaymentMethod):\n",
    "\tdef pay(self, amount):\n",
    "\t\treturn f\"Paid ${amount} with PayPal\"\n",
    "\n",
    "def process_payment(payment_method, amount):\n",
    "\tprint(payment_method.pay(amount))\n",
    "\n",
    "credit_card = CreditCard()\n",
    "paypal = PayPal()\n",
    "\n",
    "process_payment(credit_card, 100)  # Output: Paid $100 with credit card\n",
    "process_payment(paypal, 50)  # Output: Paid $50 with PayPal"
   ]
  },
  {
   "cell_type": "code",
   "execution_count": 16,
   "id": "33b4f02e-bcec-46c4-ad62-487c09e6b593",
   "metadata": {},
   "outputs": [
    {
     "name": "stdout",
     "output_type": "stream",
     "text": [
      "sweet\n",
      "sour\n"
     ]
    }
   ],
   "source": [
    "class fruit :\n",
    "    def taste (self):\n",
    "        pass\n",
    "    \n",
    "class mango(fruit):\n",
    "    def taste(self):\n",
    "        return \"sweet\"\n",
    "class amla(fruit):\n",
    "    def taste(self) :\n",
    "        return\"sour\"\n",
    "    \n",
    "def taste_fruits(fruit):\n",
    "    print(fruit. taste())\n",
    "    \n",
    "mango = mango()\n",
    "amla = amla()\n",
    "\n",
    "taste_fruits(mango)\n",
    "taste_fruits(amla)"
   ]
  },
  {
   "cell_type": "code",
   "execution_count": 17,
   "id": "fe6a46e4-8f30-4c74-9f49-3d9c8fee41d9",
   "metadata": {},
   "outputs": [
    {
     "name": "stdout",
     "output_type": "stream",
     "text": [
      "Hello, my name is John and I'm 30 years old.\n"
     ]
    }
   ],
   "source": [
    "class Person:\n",
    "\tdef __init__(self, name, age):\n",
    "\t\tself.name = name\n",
    "\t\tself.age = age\n",
    "\n",
    "\tdef greet(self):\n",
    "\t\tprint(f\"Hello, my name is {self.name} and I'm {self.age} years old.\")\n",
    "\n",
    "# Create a new Person object\n",
    "john = Person(\"John\", 30)\n",
    "\n",
    "# Call the greet method\n",
    "john.greet()\n",
    "\n"
   ]
  }
 ],
 "metadata": {
  "kernelspec": {
   "display_name": "Python 3 (ipykernel)",
   "language": "python",
   "name": "python3"
  },
  "language_info": {
   "codemirror_mode": {
    "name": "ipython",
    "version": 3
   },
   "file_extension": ".py",
   "mimetype": "text/x-python",
   "name": "python",
   "nbconvert_exporter": "python",
   "pygments_lexer": "ipython3",
   "version": "3.10.8"
  }
 },
 "nbformat": 4,
 "nbformat_minor": 5
}
